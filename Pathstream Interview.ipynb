{
 "cells": [
  {
   "cell_type": "markdown",
   "metadata": {},
   "source": [
    "# Pathstream Challenge"
   ]
  },
  {
   "cell_type": "markdown",
   "metadata": {},
   "source": [
    " ## 1. Write a query that lists all users who have been both rejected and accepted. (relevant time period: all time)\n"
   ]
  },
  {
   "cell_type": "markdown",
   "metadata": {},
   "source": [
    "`SELECT * FROM user_actions\n",
    "WHERE action=\"Accepted\" OR action=\"Rejected\";`\n"
   ]
  },
  {
   "cell_type": "markdown",
   "metadata": {},
   "source": [
    "\n",
    "### What this SQL Query does:\n",
    "1. Returns all of the columns ( basically the entire list of columns in a spreadsheet/table/dataframe) from a table called \"user_actions\"\n",
    "2. Once it has these, it then filters them by looking into the column 'action' and if the value is \"Accepted\" or \"Rejected\" it is returned.\n"
   ]
  },
  {
   "cell_type": "markdown",
   "metadata": {},
   "source": [
    "## 2. Write a query that determines the % of requests per day that resulted in a friendship. Afriendship occurs when user A requests user B and user B accepts user A. (relevant timeperiod: all time)"
   ]
  },
  {
   "cell_type": "markdown",
   "metadata": {},
   "source": [
    "`SELECT action, \n",
    "       count(action) as action_count,\n",
    "       count(action) * 100.0 / (select count(*) from : user_actions) as action_percent\n",
    "FROM : user_actions\n",
    "WHERE action=\"Accepted\"`"
   ]
  },
  {
   "cell_type": "markdown",
   "metadata": {},
   "source": [
    "\n",
    "### What this SQL Query does:\n",
    "1. It first selects the column action\n",
    "2. It then sets the total count of all of the observed actions as a sql varibale named action_count\n",
    "3. Next, it takes the total number of actions and multiples it by 100 to make sure that the next step of getting a total count of rows from the the user_actions table calculated will return a correct decimal-placed percentage.\n",
    "4. At this step\n",
    "2. Once it has these, it then filters them by looking into the column 'action' and if the value is \"Accepted\", this is\n"
   ]
  }
 ],
 "metadata": {
  "kernelspec": {
   "display_name": "Python 3",
   "language": "python",
   "name": "python3"
  },
  "language_info": {
   "codemirror_mode": {
    "name": "ipython",
    "version": 3
   },
   "file_extension": ".py",
   "mimetype": "text/x-python",
   "name": "python",
   "nbconvert_exporter": "python",
   "pygments_lexer": "ipython3",
   "version": "3.6.5"
  }
 },
 "nbformat": 4,
 "nbformat_minor": 2
}
